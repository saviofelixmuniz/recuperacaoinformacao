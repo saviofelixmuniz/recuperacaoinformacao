{
 "cells": [
  {
   "cell_type": "markdown",
   "metadata": {},
   "source": [
    "# Lab 1 - Parte 1 - Busca Booleana"
   ]
  },
  {
   "cell_type": "markdown",
   "metadata": {},
   "source": [
    "Nessa atividade foi implementado um modelo de busca booleana, bem como operadores conjuntivo e disjuntivo em uma busca desse tipo."
   ]
  },
  {
   "cell_type": "markdown",
   "metadata": {},
   "source": [
    "Inicialmente, foram importadas as bibliotecas necessárias"
   ]
  },
  {
   "cell_type": "code",
   "execution_count": 1,
   "metadata": {},
   "outputs": [],
   "source": [
    "import csv\n",
    "import re\n",
    "import timeit\n",
    "from sortedcontainers import SortedList"
   ]
  },
  {
   "cell_type": "markdown",
   "metadata": {},
   "source": [
    "Definem-se algumas constantes referente a posicionamento de colunas no csv usado como entrada."
   ]
  },
  {
   "cell_type": "code",
   "execution_count": 3,
   "metadata": {},
   "outputs": [],
   "source": [
    "TITLE_INDEX = 0\n",
    "BODY_INDEX = 1\n",
    "ID_INDEX = 2"
   ]
  },
  {
   "cell_type": "markdown",
   "metadata": {},
   "source": [
    "Em seguida, foi implementada a função responsável por encher o índice invertido da pesquisa."
   ]
  },
  {
   "cell_type": "code",
   "execution_count": 4,
   "metadata": {},
   "outputs": [],
   "source": [
    "def fillInvertedIndex(pageId, text, invertedIndex):\n",
    "    for word in text.split(' '):\n",
    "        lowerWord = word.lower()\n",
    "        if lowerWord not in invertedIndex:\n",
    "            invertedIndex[lowerWord] = SortedList()\n",
    "\n",
    "        if pageId not in invertedIndex[lowerWord]:\n",
    "            invertedIndex[lowerWord].add(pageId)"
   ]
  },
  {
   "cell_type": "markdown",
   "metadata": {},
   "source": [
    "Nessa função vê-se que existe um mapeamento entre termo e uma lista de documentos (*postings*) e que essa lista está ordenada para facilitar, posteriormente, as operações de merge. Vê-se também que as palavras são padronizadas para que todas fiquem com carácteres minúsculos."
   ]
  },
  {
   "cell_type": "markdown",
   "metadata": {},
   "source": [
    "## Operações"
   ]
  },
  {
   "cell_type": "markdown",
   "metadata": {},
   "source": [
    "De posse de um índice invertido, é possível, então, construir as operações de busca conjuntiva e disjuntiva. "
   ]
  },
  {
   "cell_type": "markdown",
   "metadata": {},
   "source": [
    "A operação conjuntiva foi implementada conforme segue:"
   ]
  },
  {
   "cell_type": "code",
   "execution_count": 5,
   "metadata": {},
   "outputs": [],
   "source": [
    "def searchAnd(firstTerm, secondTerm, invertedIndex):\n",
    "    results = SortedList()\n",
    "\n",
    "    firstTermList = invertedIndex[firstTerm.lower()]\n",
    "    secondTermList = invertedIndex[secondTerm.lower()]\n",
    "\n",
    "    i = 0\n",
    "    j = 0\n",
    "\n",
    "    while True:\n",
    "        if firstTermList[i] == secondTermList[j]:\n",
    "            results.add(firstTermList[i])\n",
    "\n",
    "        if firstTermList[i] > secondTermList[j]:\n",
    "            j += 1\n",
    "            if j == len(secondTermList):\n",
    "                break\n",
    "\n",
    "        else:\n",
    "            i += 1\n",
    "            if i == len(firstTermList):\n",
    "                break\n",
    "\n",
    "    return results"
   ]
  },
  {
   "cell_type": "markdown",
   "metadata": {},
   "source": [
    "Verifica-se que pegam-se as duas listas de documentos dos termos buscados, a partir daí caminha-se nas duas listas achando os elementos que se encontram na interseção. "
   ]
  },
  {
   "cell_type": "markdown",
   "metadata": {},
   "source": [
    "Analogamente, foi definida a função de operação disjuntiva:"
   ]
  },
  {
   "cell_type": "code",
   "execution_count": 7,
   "metadata": {},
   "outputs": [],
   "source": [
    "def searchOr(firstTerm, secondTerm, invertedIndex):\n",
    "    results = SortedList()\n",
    "    for pageId in invertedIndex[firstTerm.lower()]:\n",
    "        results.add(pageId)\n",
    "\n",
    "    for pageId in invertedIndex[secondTerm.lower()]:\n",
    "        if pageId not in results:\n",
    "            results.add(pageId)\n",
    "\n",
    "    return results"
   ]
  },
  {
   "cell_type": "markdown",
   "metadata": {},
   "source": [
    "O algoritmo da busca disjuntiva é, portanto, mais simples, e trata-se de uma união entre as duas listas de documentos."
   ]
  },
  {
   "cell_type": "markdown",
   "metadata": {},
   "source": [
    "Finalmente, foi criada um função para direcionar para processar a busca e direcionar para a operação correta:"
   ]
  },
  {
   "cell_type": "code",
   "execution_count": 8,
   "metadata": {},
   "outputs": [],
   "source": [
    "def search(input):\n",
    "    terms = input.split(' ')\n",
    "    if len(terms) == 1:\n",
    "        return invertedIndex[terms[0]]\n",
    "\n",
    "    else:\n",
    "        if (terms[1] == 'AND'):\n",
    "            return searchAnd(terms[0], terms[2], invertedIndex)\n",
    "\n",
    "        if (terms[1] == 'OR'):\n",
    "            return searchOr(terms[0], terms[2], invertedIndex)"
   ]
  },
  {
   "cell_type": "markdown",
   "metadata": {},
   "source": [
    "## Buscando"
   ]
  },
  {
   "cell_type": "markdown",
   "metadata": {},
   "source": [
    "Definidas as funções de suporte e o modelo de busca e indexação, torna-se possível o carregamento dos dados e testes de corretude."
   ]
  },
  {
   "cell_type": "markdown",
   "metadata": {},
   "source": [
    "Primeiramente, foi feito o carregamento dos dados:"
   ]
  },
  {
   "cell_type": "code",
   "execution_count": 12,
   "metadata": {},
   "outputs": [],
   "source": [
    "invertedIndex = dict()\n",
    "pages = dict()\n",
    "\n",
    "with open('estadao.csv', 'rt', encoding='utf8') as csvfile:\n",
    "    estadao = csv.reader(csvfile)\n",
    "\n",
    "    for index, row in enumerate(estadao):\n",
    "        if index == 0:\n",
    "            continue\n",
    "\n",
    "        pageId = int(row[ID_INDEX])\n",
    "\n",
    "        title = row[TITLE_INDEX]\n",
    "        body = row[BODY_INDEX]\n",
    "\n",
    "        pages[pageId] = {'title': title, 'body': body}\n",
    "\n",
    "        fillInvertedIndex(pageId, title, invertedIndex)\n",
    "        fillInvertedIndex(pageId, body, invertedIndex)"
   ]
  },
  {
   "cell_type": "markdown",
   "metadata": {},
   "source": [
    "Feito isso, é possível testar o índice invertido construído:"
   ]
  },
  {
   "cell_type": "code",
   "execution_count": 14,
   "metadata": {},
   "outputs": [
    {
     "name": "stdout",
     "output_type": "stream",
     "text": [
      "SortedList([16, 19, 46, 49, 55, 87, 235, 252, 310, 374, 417, 494, 657, 688, 791, 793, 836, 838, 861, 866, 868, 900, 972, 1006, 1009, 1114, 1364, 1425, 1433, 1656, 1665, 1738, 1760, 1813, 1834, 1840, 1906, 1921, 1926, 1949, 2004, 2050, 2242, 2264, 2277, 2554, 2631, 2634, 2659, 2725, 2778, 2780, 2949, 2965, 2967, 2971, 3008, 3054, 3055, 3064, 3071, 3362, 3440, 3514, 3716, 3725, 3770, 3824, 3966, 3971, 4141, 4207, 4631, 4725, 4730, 4736, 4792, 4803, 4814, 4827, 4828, 4838, 4841, 4858, 4948, 5134, 5145, 5168, 5183, 5193, 5276, 5282, 5335, 5365, 5388, 5391, 5453, 5458, 5465, 5519, 5521, 5573, 5637, 5860, 5999, 6051, 6132, 6146, 6169, 6183, 6287, 6288, 6344, 6441, 6459, 6500, 6586, 6656, 6800, 6860, 7005, 7211, 7270, 7299, 7307, 7338, 7367, 7390, 7443, 7509, 7513, 7532, 7560, 7563])\n"
     ]
    }
   ],
   "source": [
    "print(invertedIndex['ciro'])"
   ]
  },
  {
   "cell_type": "markdown",
   "metadata": {},
   "source": [
    "Bem como os algoritmos de busca, fazendo uma pesquisa por documentos que contenham os termos Ciro e Gomes."
   ]
  },
  {
   "cell_type": "code",
   "execution_count": 17,
   "metadata": {},
   "outputs": [
    {
     "name": "stdout",
     "output_type": "stream",
     "text": [
      "SortedList([16, 19, 49, 55, 374, 494, 657, 791, 793, 836, 838, 900, 1006, 1114, 1425, 1738, 1760, 1813, 1834, 1840, 1906, 1921, 1926, 1949, 2004, 2050, 2242, 2264, 2277, 2554, 2659, 2725, 2778, 2780, 3008, 3362, 3514, 3716, 3770, 3824, 4631, 4736, 4803, 4838, 4841, 4948, 5134, 5145, 5168, 5183, 5276, 5282, 5335, 5365, 5388, 5453, 5458, 5519, 5521, 5573, 5860, 5999, 6051, 6132, 6146, 6169, 6183, 6287, 6288, 6344, 6441, 6500, 6800, 6860, 7005, 7270, 7299, 7307, 7367, 7390, 7443, 7509, 7513])\n"
     ]
    }
   ],
   "source": [
    "print(search('ciro AND gomes'))"
   ]
  },
  {
   "cell_type": "markdown",
   "metadata": {},
   "source": [
    "Verificando um dos documentos fornecidos pela busca, tem-se:"
   ]
  },
  {
   "cell_type": "code",
   "execution_count": 19,
   "metadata": {},
   "outputs": [
    {
     "name": "stdout",
     "output_type": "stream",
     "text": [
      "{'body': 'Convidado para ocupar o Ministério da Educação no novo mandato da presidente Dilma Rousseff o governador do Ceará Cid Gomes Pros já tem uma lista de prioridades que deverá por em prática nas primeiras semanas de janeiro Gomes esteve ontem em Brasília onde se reuniu com o atual ministro da pasta Henrique Paim e parte da equipe do governo federal Conversei com o Paim sobre algumas questões postas no calendário do Ministério Na primeira semana depois da posse será divulgado o reajuste do piso dos professores Na segunda o resultado do Enem Exame Nacional do Ensino Médio na terceira e quarta abertura do Sisu Sistema de Seleção Unificada afirmou ao Broadcast Político serviço em tempo real da Agência Estado De saída do governo estadual e de mudança para Brasília Cid Gomes destaca como principal meta como ministro da Educação o debate sobre uma revisão da grade curricular do Ensino Médio Não será um currículo para todo o Brasil mas vai procurar respeitar as questões regionais ressaltou A ideia entretanto já vem sendo trabalhada pelo ministro Henrique Paim um dos defensores da flexibilidade do currículo de modo que o estudante não precise repetir o ano toda vez que for reprovado por uma ou duas disciplinas No cerne das discussões dentro do governo está a tentativa de se evitar a evasão escolar O futuro ministro da Educação que toma posse no dia 1º de janeiro também defendeu a redução do período de alfabetização Acredito que a alfabetização pode ser feita até os 7 anos e não 8 como é hoje No encontro que teve com a presidente Dilma no início do mês quando foi convidado para o Ministério a petista reforçou o pedido de atenção à ampliação da oferta de vagas em tempo integral Na campanha eleitoral deste ano a então candidata à reeleição prometeu que a rede de educação em tempo integral irá atingir 20 das vagas na rede pública até 2018 Sobre outra promessa de Dilma a criação de creches Cid Gomes considerou que ela deverá ser cumprida até 2017 Já foram contratadas 6180 creches Acho que dá para concluí-las nos dois primeiros anos afirmou Partido Ao falar sobre a divisão dos ministérios entre os partidos Cid Gomes considerou que não foi convidado pelo fato de ser um dos principais expoentes do Pros mas pelo perfil de gestor Na medida que aceitei convite para assumir um ministério técnico vou me abster de fazer comentários políticos Mas fui convidado pela presidente que tem lá suas preferências Não foi por causa do Pros que é muito pequeno Não fui escolhido por uma questão partidária disse Cid Gomes também comentou sobre o futuro do irmão Ciro Gomes que chegou a ocupar o cargo de secretário de Saúde no governo do Ceará Ciro é a nossa maior liderança Espero que ele assuma o papel de líder do partido A informação que temos é de que vai trabalhar no setor privado Mas queremos que ele aceite liderar o partido', 'title': 'Cid Gomes anunciará novo piso para professores em janeiro'}\n"
     ]
    }
   ],
   "source": [
    "print(pages[16])"
   ]
  },
  {
   "cell_type": "markdown",
   "metadata": {},
   "source": [
    "## Corretude"
   ]
  },
  {
   "cell_type": "markdown",
   "metadata": {},
   "source": [
    "Para testar a corretude do algoritmo implementado, foram testados os *asserts* fornecidos como requisitos da atividade"
   ]
  },
  {
   "cell_type": "code",
   "execution_count": 27,
   "metadata": {},
   "outputs": [],
   "source": [
    "assert(len(search('debate OR presidencial')) == 1770)\n",
    "assert(len(search('debate AND presidencial')) == 201)\n",
    "\n",
    "assert(len(search('presidenciáveis OR corruptos')) == 164)\n",
    "assert(len(search('presidenciáveis AND corruptos')) == 0)\n",
    "\n",
    "assert(len(search('Belo OR Horizonte')) == 331)\n",
    "assert(len(search('Belo AND Horizonte')) == 242)"
   ]
  }
 ],
 "metadata": {
  "kernelspec": {
   "display_name": "Python 3",
   "language": "python",
   "name": "python3"
  },
  "language_info": {
   "codemirror_mode": {
    "name": "ipython",
    "version": 3
   },
   "file_extension": ".py",
   "mimetype": "text/x-python",
   "name": "python",
   "nbconvert_exporter": "python",
   "pygments_lexer": "ipython3",
   "version": "3.5.2"
  }
 },
 "nbformat": 4,
 "nbformat_minor": 1
}
