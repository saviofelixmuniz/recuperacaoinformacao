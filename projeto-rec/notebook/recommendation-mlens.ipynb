{
 "cells": [
  {
   "cell_type": "markdown",
   "metadata": {},
   "source": [
    "# Projeto de Recuperação da Informação"
   ]
  },
  {
   "cell_type": "markdown",
   "metadata": {},
   "source": [
    "## Sistema de recomendação de filmes usando banco com notas de usuários  "
   ]
  },
  {
   "cell_type": "markdown",
   "metadata": {},
   "source": [
    "O projeto consistiu em usar uma base de dados do [MovieLens](https://grouplens.org/datasets/movielens/100k/) que tinha avaliações de usuários para filmes assistidos. Baseado nesses dados e usando uma biblioteca de recomendação ([SurpriseLib](http://surpriselib.com/)) foram recomendados filmes para novos usuários."
   ]
  },
  {
   "cell_type": "code",
   "execution_count": 27,
   "metadata": {},
   "outputs": [],
   "source": [
    "import numpy\n",
    "import pandas as pd\n",
    "import os"
   ]
  },
  {
   "cell_type": "markdown",
   "metadata": {},
   "source": [
    "## 1. Os dados "
   ]
  },
  {
   "cell_type": "markdown",
   "metadata": {},
   "source": [
    "O MovieLens fornece uma base rica com muitas tabelas diferentes com informações sobre filmes, dados de usuários, gêneros de filmes, etc. Para esse estudo, no entanto, foram usadas duas tabelas: a que possuía informações sobre os filmes (u.item) e a que possuia as notas de avaliação* (u.data). Um sample dos dados segue:"
   ]
  },
  {
   "cell_type": "markdown",
   "metadata": {},
   "source": [
    "__u.data:__"
   ]
  },
  {
   "cell_type": "code",
   "execution_count": 4,
   "metadata": {},
   "outputs": [
    {
     "data": {
      "text/html": [
       "<div>\n",
       "<style scoped>\n",
       "    .dataframe tbody tr th:only-of-type {\n",
       "        vertical-align: middle;\n",
       "    }\n",
       "\n",
       "    .dataframe tbody tr th {\n",
       "        vertical-align: top;\n",
       "    }\n",
       "\n",
       "    .dataframe thead th {\n",
       "        text-align: right;\n",
       "    }\n",
       "</style>\n",
       "<table border=\"1\" class=\"dataframe\">\n",
       "  <thead>\n",
       "    <tr style=\"text-align: right;\">\n",
       "      <th></th>\n",
       "      <th>user_id</th>\n",
       "      <th>movie_id</th>\n",
       "      <th>rating</th>\n",
       "    </tr>\n",
       "  </thead>\n",
       "  <tbody>\n",
       "    <tr>\n",
       "      <th>0</th>\n",
       "      <td>196</td>\n",
       "      <td>242</td>\n",
       "      <td>3</td>\n",
       "    </tr>\n",
       "    <tr>\n",
       "      <th>1</th>\n",
       "      <td>186</td>\n",
       "      <td>302</td>\n",
       "      <td>3</td>\n",
       "    </tr>\n",
       "    <tr>\n",
       "      <th>2</th>\n",
       "      <td>22</td>\n",
       "      <td>377</td>\n",
       "      <td>1</td>\n",
       "    </tr>\n",
       "    <tr>\n",
       "      <th>3</th>\n",
       "      <td>244</td>\n",
       "      <td>51</td>\n",
       "      <td>2</td>\n",
       "    </tr>\n",
       "    <tr>\n",
       "      <th>4</th>\n",
       "      <td>166</td>\n",
       "      <td>346</td>\n",
       "      <td>1</td>\n",
       "    </tr>\n",
       "  </tbody>\n",
       "</table>\n",
       "</div>"
      ],
      "text/plain": [
       "  user_id movie_id rating\n",
       "0     196      242      3\n",
       "1     186      302      3\n",
       "2      22      377      1\n",
       "3     244       51      2\n",
       "4     166      346      1"
      ]
     },
     "execution_count": 4,
     "metadata": {},
     "output_type": "execute_result"
    }
   ],
   "source": [
    "file = open(\"../back/ml-100k/u_backup.data\", \"r\", encoding='ISO-8859-1')\n",
    "lines = file.readlines()\n",
    "sample_ratings = []\n",
    "for line in lines[:5]:\n",
    "        columns = line.split('\\t')\n",
    "        sample_ratings.append({\"user_id\":  columns[0], \"movie_id\":  columns[1], \"rating\":  columns[2]})\n",
    "\n",
    "df = pd.DataFrame(data=sample_ratings)\n",
    "cols = [\"user_id\", \"movie_id\", \"rating\"]\n",
    "df = df[cols]\n",
    "df"
   ]
  },
  {
   "cell_type": "markdown",
   "metadata": {},
   "source": [
    "_*As notas foram avaliadas entre 0 e 5_"
   ]
  },
  {
   "cell_type": "markdown",
   "metadata": {},
   "source": [
    "__u.item:__"
   ]
  },
  {
   "cell_type": "code",
   "execution_count": 39,
   "metadata": {},
   "outputs": [
    {
     "data": {
      "text/html": [
       "<div>\n",
       "<style scoped>\n",
       "    .dataframe tbody tr th:only-of-type {\n",
       "        vertical-align: middle;\n",
       "    }\n",
       "\n",
       "    .dataframe tbody tr th {\n",
       "        vertical-align: top;\n",
       "    }\n",
       "\n",
       "    .dataframe thead th {\n",
       "        text-align: right;\n",
       "    }\n",
       "</style>\n",
       "<table border=\"1\" class=\"dataframe\">\n",
       "  <thead>\n",
       "    <tr style=\"text-align: right;\">\n",
       "      <th></th>\n",
       "      <th>movie_id</th>\n",
       "      <th>name</th>\n",
       "    </tr>\n",
       "  </thead>\n",
       "  <tbody>\n",
       "    <tr>\n",
       "      <th>0</th>\n",
       "      <td>1</td>\n",
       "      <td>Toy Story (1995)</td>\n",
       "    </tr>\n",
       "    <tr>\n",
       "      <th>1</th>\n",
       "      <td>2</td>\n",
       "      <td>GoldenEye (1995)</td>\n",
       "    </tr>\n",
       "    <tr>\n",
       "      <th>2</th>\n",
       "      <td>3</td>\n",
       "      <td>Four Rooms (1995)</td>\n",
       "    </tr>\n",
       "    <tr>\n",
       "      <th>3</th>\n",
       "      <td>4</td>\n",
       "      <td>Get Shorty (1995)</td>\n",
       "    </tr>\n",
       "    <tr>\n",
       "      <th>4</th>\n",
       "      <td>5</td>\n",
       "      <td>Copycat (1995)</td>\n",
       "    </tr>\n",
       "  </tbody>\n",
       "</table>\n",
       "</div>"
      ],
      "text/plain": [
       "  movie_id               name\n",
       "0        1   Toy Story (1995)\n",
       "1        2   GoldenEye (1995)\n",
       "2        3  Four Rooms (1995)\n",
       "3        4  Get Shorty (1995)\n",
       "4        5     Copycat (1995)"
      ]
     },
     "execution_count": 39,
     "metadata": {},
     "output_type": "execute_result"
    }
   ],
   "source": [
    "file = open(\"../back/ml-100k/u.item\", \"r\", encoding='ISO-8859-1')\n",
    "lines = file.readlines()\n",
    "movies = []\n",
    "for line in lines:\n",
    "    columns = line.split('|')\n",
    "    movie_id = columns[0]\n",
    "    name = columns[1]\n",
    "    movies.append({\"movie_id\": movie_id, \"name\": name})href\n",
    "        \n",
    "df = pd.DataFrame(data=movies[:5])\n",
    "cols = [\"movie_id\", \"name\"]\n",
    "df = df[cols]\n",
    "df"
   ]
  },
  {
   "cell_type": "markdown",
   "metadata": {},
   "source": [
    "## 2. O algoritmo"
   ]
  },
  {
   "cell_type": "markdown",
   "metadata": {},
   "source": [
    "### 2.1 Injeção de dados"
   ]
  },
  {
   "cell_type": "markdown",
   "metadata": {},
   "source": [
    "A ideia do algoritmo é modificar os dados recebidos como input, adicionando novas linhas com filmes que o usuário gostou. Para tal, precisa-se de uma função que possa escrever uma lista de ids de filmes na tabela de notas:"
   ]
  },
  {
   "cell_type": "code",
   "execution_count": 24,
   "metadata": {},
   "outputs": [],
   "source": [
    "DEFAULT_USER = \"1234\"\n",
    "MAX_RATING = \"5\"\n",
    "DEFAULT_TIMESTAMP = \"000000000\"\n",
    "\n",
    "def add_movie_list(movies):\n",
    "    \"\"\"\n",
    "    Adiciona filmes para a tabela de notas MovieLens\n",
    "    :param movies: array de id de filmes que o usuário já assistiu e gostou\n",
    "    :return:\n",
    "    \"\"\"\n",
    "    \n",
    "    f = open(\"../back/ml-100k/u.data\", \"a\")\n",
    "\n",
    "    for movie in movies:\n",
    "        f.write(\"%s\\t%s\\t%s\\t%s\\n\" % (DEFAULT_USER, movie, MAX_RATING, DEFAULT_TIMESTAMP))\n",
    "\n",
    "    f.close()"
   ]
  },
  {
   "cell_type": "markdown",
   "metadata": {},
   "source": [
    "__Note que:__ \n",
    "    1. Tem-se um id de usuário inventado e padrão, que serve somente para que possa ser possível a inserção de novos dados na tabela; \n",
    "    2. Existe também um timestamp padrão, pois não há interesse em estudar a data de avaliação\n",
    "    3. As inserções são sempre com nota máxima, pois deseja-se facilitar a experiência do usuário e leva-se em conta que ele adicionará a sua lista, filmes que gostou muito"
   ]
  },
  {
   "cell_type": "markdown",
   "metadata": {},
   "source": [
    "### 2.2 Treinamento"
   ]
  },
  {
   "cell_type": "markdown",
   "metadata": {},
   "source": [
    "Usando o método que foi criado, e em posse do arquivo modificado, precisa-se agora treinar o modelo para que ele possa __prever as notas que o novo usuário daria para os outros filmes__, para isso, usa-se a biblioteca __Surprise__."
   ]
  },
  {
   "cell_type": "code",
   "execution_count": 29,
   "metadata": {},
   "outputs": [],
   "source": [
    "from surprise import KNNBasic \n",
    "from surprise import Reader\n",
    "from surprise import Dataset\n",
    "\n",
    "def train(movie_list):\n",
    "    \"\"\"\n",
    "    Treina um modelo customizado com os dados que o usuário forneceu\n",
    "    :param movies: array de id de filmes que o usuário já assistiu e gostou\n",
    "    :return:\n",
    "    \"\"\"\n",
    "    add_movie_list(movie_list)\n",
    "\n",
    "    #Carregando dados customizados no Surprise\n",
    "    file_path = os.path.expanduser('../back/ml-100k/u.data')\n",
    "    reader = Reader(line_format='user item rating timestamp', sep='\\t')\n",
    "    data = Dataset.load_from_file(file_path, reader=reader)\n",
    "\n",
    "    #Treinando o modelo\n",
    "    trainset = data.build_full_trainset()\n",
    "\n",
    "    model = KNNBasic()\n",
    "    model.fit(trainset)\n",
    "    return model"
   ]
  },
  {
   "cell_type": "markdown",
   "metadata": {},
   "source": [
    "Com isso, __pode-se treinar um modelo__, por exemplo, para um usuário que gostou de Toy Story (1995), GoldenEye (1995), Four Rooms (1995), Get Shorty (1995) e Copycat (1995) (respectivamente __IDs 1,2,3,4 e 5__)."
   ]
  },
  {
   "cell_type": "code",
   "execution_count": 34,
   "metadata": {},
   "outputs": [
    {
     "name": "stdout",
     "output_type": "stream",
     "text": [
      "Computing the msd similarity matrix...\n",
      "Done computing similarity matrix.\n"
     ]
    }
   ],
   "source": [
    "watched_movies = [1,2,3,4,5]\n",
    "model = train(watched_movies)"
   ]
  },
  {
   "cell_type": "markdown",
   "metadata": {},
   "source": [
    "### 2.3 Previsões"
   ]
  },
  {
   "cell_type": "markdown",
   "metadata": {},
   "source": [
    "Uma vez com um modelo definido, foi feita uma __previsão de nota para cada filme__ na tabela para o usuário que foi criado, essas notas foram então ordenadas em ordem decrescente:"
   ]
  },
  {
   "cell_type": "code",
   "execution_count": 40,
   "metadata": {},
   "outputs": [],
   "source": [
    "import operator\n",
    "def get_all_ratings(user, model, movie_list):\n",
    "    \"\"\"\n",
    "    Pega as notas previstas para cada um dos filmes da tabela de filmes\n",
    "    :param user: Usuário que deseja-se obter as previsões \n",
    "    :param algo: Modelo treinado\n",
    "    :param movie_list: Lista de filmes do usuário\n",
    "    :return: Retorna as notas previstas\n",
    "    \"\"\"\n",
    "    uid = str(user)\n",
    "    preds = []\n",
    "    for movie in movies:\n",
    "        #Descarta-se os filmes que já estavam na lista, pois não é desejado recomendar o mesmo filme\n",
    "        if movie[\"movie_id\"] in movie_list:\n",
    "            continue\n",
    "\n",
    "        iid = str(movie[\"movie_id\"])\n",
    "        pred = model.predict(uid, iid)\n",
    "        preds.append({\"movie_id\": iid, \"rating\": pred.est})\n",
    "\n",
    "    preds.sort(key=operator.itemgetter('rating'), reverse=True)\n",
    "    return preds"
   ]
  },
  {
   "cell_type": "markdown",
   "metadata": {},
   "source": [
    "Agora é possível obter as previsões para o usuário do modelo que foi treinado:"
   ]
  },
  {
   "cell_type": "code",
   "execution_count": 43,
   "metadata": {},
   "outputs": [],
   "source": [
    "preds = get_all_ratings(DEFAULT_USER, model, watched_movies)"
   ]
  },
  {
   "cell_type": "markdown",
   "metadata": {},
   "source": [
    "Estes são os vinte filmes mais indicados para este usuário:"
   ]
  },
  {
   "cell_type": "code",
   "execution_count": 44,
   "metadata": {},
   "outputs": [
    {
     "data": {
      "text/html": [
       "<div>\n",
       "<style scoped>\n",
       "    .dataframe tbody tr th:only-of-type {\n",
       "        vertical-align: middle;\n",
       "    }\n",
       "\n",
       "    .dataframe tbody tr th {\n",
       "        vertical-align: top;\n",
       "    }\n",
       "\n",
       "    .dataframe thead th {\n",
       "        text-align: right;\n",
       "    }\n",
       "</style>\n",
       "<table border=\"1\" class=\"dataframe\">\n",
       "  <thead>\n",
       "    <tr style=\"text-align: right;\">\n",
       "      <th></th>\n",
       "      <th>movie_id</th>\n",
       "      <th>rating</th>\n",
       "    </tr>\n",
       "  </thead>\n",
       "  <tbody>\n",
       "    <tr>\n",
       "      <th>0</th>\n",
       "      <td>1</td>\n",
       "      <td>5.000000</td>\n",
       "    </tr>\n",
       "    <tr>\n",
       "      <th>1</th>\n",
       "      <td>814</td>\n",
       "      <td>5.000000</td>\n",
       "    </tr>\n",
       "    <tr>\n",
       "      <th>2</th>\n",
       "      <td>1189</td>\n",
       "      <td>5.000000</td>\n",
       "    </tr>\n",
       "    <tr>\n",
       "      <th>3</th>\n",
       "      <td>1463</td>\n",
       "      <td>5.000000</td>\n",
       "    </tr>\n",
       "    <tr>\n",
       "      <th>4</th>\n",
       "      <td>1467</td>\n",
       "      <td>5.000000</td>\n",
       "    </tr>\n",
       "    <tr>\n",
       "      <th>5</th>\n",
       "      <td>1472</td>\n",
       "      <td>5.000000</td>\n",
       "    </tr>\n",
       "    <tr>\n",
       "      <th>6</th>\n",
       "      <td>1500</td>\n",
       "      <td>5.000000</td>\n",
       "    </tr>\n",
       "    <tr>\n",
       "      <th>7</th>\n",
       "      <td>1536</td>\n",
       "      <td>5.000000</td>\n",
       "    </tr>\n",
       "    <tr>\n",
       "      <th>8</th>\n",
       "      <td>1599</td>\n",
       "      <td>5.000000</td>\n",
       "    </tr>\n",
       "    <tr>\n",
       "      <th>9</th>\n",
       "      <td>1656</td>\n",
       "      <td>5.000000</td>\n",
       "    </tr>\n",
       "    <tr>\n",
       "      <th>10</th>\n",
       "      <td>64</td>\n",
       "      <td>4.795209</td>\n",
       "    </tr>\n",
       "    <tr>\n",
       "      <th>11</th>\n",
       "      <td>408</td>\n",
       "      <td>4.739960</td>\n",
       "    </tr>\n",
       "    <tr>\n",
       "      <th>12</th>\n",
       "      <td>1398</td>\n",
       "      <td>4.739130</td>\n",
       "    </tr>\n",
       "    <tr>\n",
       "      <th>13</th>\n",
       "      <td>119</td>\n",
       "      <td>4.699374</td>\n",
       "    </tr>\n",
       "    <tr>\n",
       "      <th>14</th>\n",
       "      <td>1643</td>\n",
       "      <td>4.695652</td>\n",
       "    </tr>\n",
       "    <tr>\n",
       "      <th>15</th>\n",
       "      <td>50</td>\n",
       "      <td>4.675000</td>\n",
       "    </tr>\n",
       "    <tr>\n",
       "      <th>16</th>\n",
       "      <td>174</td>\n",
       "      <td>4.650000</td>\n",
       "    </tr>\n",
       "    <tr>\n",
       "      <th>17</th>\n",
       "      <td>318</td>\n",
       "      <td>4.647312</td>\n",
       "    </tr>\n",
       "    <tr>\n",
       "      <th>18</th>\n",
       "      <td>1639</td>\n",
       "      <td>4.636364</td>\n",
       "    </tr>\n",
       "    <tr>\n",
       "      <th>19</th>\n",
       "      <td>1642</td>\n",
       "      <td>4.636364</td>\n",
       "    </tr>\n",
       "  </tbody>\n",
       "</table>\n",
       "</div>"
      ],
      "text/plain": [
       "   movie_id    rating\n",
       "0         1  5.000000\n",
       "1       814  5.000000\n",
       "2      1189  5.000000\n",
       "3      1463  5.000000\n",
       "4      1467  5.000000\n",
       "5      1472  5.000000\n",
       "6      1500  5.000000\n",
       "7      1536  5.000000\n",
       "8      1599  5.000000\n",
       "9      1656  5.000000\n",
       "10       64  4.795209\n",
       "11      408  4.739960\n",
       "12     1398  4.739130\n",
       "13      119  4.699374\n",
       "14     1643  4.695652\n",
       "15       50  4.675000\n",
       "16      174  4.650000\n",
       "17      318  4.647312\n",
       "18     1639  4.636364\n",
       "19     1642  4.636364"
      ]
     },
     "execution_count": 44,
     "metadata": {},
     "output_type": "execute_result"
    }
   ],
   "source": [
    "df = pd.DataFrame(data=preds[:20])\n",
    "cols = [\"movie_id\", \"rating\"]\n",
    "df = df[cols]\n",
    "df"
   ]
  },
  {
   "cell_type": "markdown",
   "metadata": {},
   "source": [
    "### 2.4 Melhorando a tabela resultado"
   ]
  },
  {
   "cell_type": "markdown",
   "metadata": {},
   "source": [
    "Como o usuário não foi apresentado com o conceito de notas, será utilizada uma métrica de __relevância__, essa métrica será calculada como uma __razão entre a nota apresentada e a nota máxima__, e será expressa em __porcentagem__. Além disso, também é desejável obter expor ao usuário os nomes dos filmes, ao invés de ids. Para isso, será utilizada a __tabela de itens__ e será feito o __cruzamento com os ids__ obtidos."
   ]
  },
  {
   "cell_type": "code",
   "execution_count": 55,
   "metadata": {},
   "outputs": [
    {
     "data": {
      "text/html": [
       "<div>\n",
       "<style scoped>\n",
       "    .dataframe tbody tr th:only-of-type {\n",
       "        vertical-align: middle;\n",
       "    }\n",
       "\n",
       "    .dataframe tbody tr th {\n",
       "        vertical-align: top;\n",
       "    }\n",
       "\n",
       "    .dataframe thead th {\n",
       "        text-align: right;\n",
       "    }\n",
       "</style>\n",
       "<table border=\"1\" class=\"dataframe\">\n",
       "  <thead>\n",
       "    <tr style=\"text-align: right;\">\n",
       "      <th></th>\n",
       "      <th>Nome do Filme</th>\n",
       "      <th>Relevância</th>\n",
       "    </tr>\n",
       "  </thead>\n",
       "  <tbody>\n",
       "    <tr>\n",
       "      <th>0</th>\n",
       "      <td>Toy Story (1995)</td>\n",
       "      <td>100.0 %</td>\n",
       "    </tr>\n",
       "    <tr>\n",
       "      <th>1</th>\n",
       "      <td>Great Day in Harlem, A (1994)</td>\n",
       "      <td>100.0 %</td>\n",
       "    </tr>\n",
       "    <tr>\n",
       "      <th>2</th>\n",
       "      <td>Prefontaine (1997)</td>\n",
       "      <td>100.0 %</td>\n",
       "    </tr>\n",
       "    <tr>\n",
       "      <th>3</th>\n",
       "      <td>Boys, Les (1997)</td>\n",
       "      <td>100.0 %</td>\n",
       "    </tr>\n",
       "    <tr>\n",
       "      <th>4</th>\n",
       "      <td>Saint of Fort Washington, The (1993)</td>\n",
       "      <td>100.0 %</td>\n",
       "    </tr>\n",
       "    <tr>\n",
       "      <th>5</th>\n",
       "      <td>Visitors, The (Visiteurs, Les) (1993)</td>\n",
       "      <td>100.0 %</td>\n",
       "    </tr>\n",
       "    <tr>\n",
       "      <th>6</th>\n",
       "      <td>Santa with Muscles (1996)</td>\n",
       "      <td>100.0 %</td>\n",
       "    </tr>\n",
       "    <tr>\n",
       "      <th>7</th>\n",
       "      <td>Aiqing wansui (1994)</td>\n",
       "      <td>100.0 %</td>\n",
       "    </tr>\n",
       "    <tr>\n",
       "      <th>8</th>\n",
       "      <td>Someone Else's America (1995)</td>\n",
       "      <td>100.0 %</td>\n",
       "    </tr>\n",
       "    <tr>\n",
       "      <th>9</th>\n",
       "      <td>Little City (1998)</td>\n",
       "      <td>100.0 %</td>\n",
       "    </tr>\n",
       "    <tr>\n",
       "      <th>10</th>\n",
       "      <td>Shawshank Redemption, The (1994)</td>\n",
       "      <td>95.9 %</td>\n",
       "    </tr>\n",
       "    <tr>\n",
       "      <th>11</th>\n",
       "      <td>Close Shave, A (1995)</td>\n",
       "      <td>94.8 %</td>\n",
       "    </tr>\n",
       "    <tr>\n",
       "      <th>12</th>\n",
       "      <td>Anna (1996)</td>\n",
       "      <td>94.8 %</td>\n",
       "    </tr>\n",
       "    <tr>\n",
       "      <th>13</th>\n",
       "      <td>Maya Lin: A Strong Clear Vision (1994)</td>\n",
       "      <td>94.0 %</td>\n",
       "    </tr>\n",
       "    <tr>\n",
       "      <th>14</th>\n",
       "      <td>Angel Baby (1995)</td>\n",
       "      <td>93.9 %</td>\n",
       "    </tr>\n",
       "    <tr>\n",
       "      <th>15</th>\n",
       "      <td>Star Wars (1977)</td>\n",
       "      <td>93.5 %</td>\n",
       "    </tr>\n",
       "    <tr>\n",
       "      <th>16</th>\n",
       "      <td>Raiders of the Lost Ark (1981)</td>\n",
       "      <td>93.0 %</td>\n",
       "    </tr>\n",
       "    <tr>\n",
       "      <th>17</th>\n",
       "      <td>Schindler's List (1993)</td>\n",
       "      <td>92.9 %</td>\n",
       "    </tr>\n",
       "    <tr>\n",
       "      <th>18</th>\n",
       "      <td>Bitter Sugar (Azucar Amargo) (1996)</td>\n",
       "      <td>92.7 %</td>\n",
       "    </tr>\n",
       "    <tr>\n",
       "      <th>19</th>\n",
       "      <td>Some Mother's Son (1996)</td>\n",
       "      <td>92.7 %</td>\n",
       "    </tr>\n",
       "  </tbody>\n",
       "</table>\n",
       "</div>"
      ],
      "text/plain": [
       "                             Nome do Filme Relevância\n",
       "0                         Toy Story (1995)    100.0 %\n",
       "1            Great Day in Harlem, A (1994)    100.0 %\n",
       "2                       Prefontaine (1997)    100.0 %\n",
       "3                         Boys, Les (1997)    100.0 %\n",
       "4     Saint of Fort Washington, The (1993)    100.0 %\n",
       "5    Visitors, The (Visiteurs, Les) (1993)    100.0 %\n",
       "6                Santa with Muscles (1996)    100.0 %\n",
       "7                     Aiqing wansui (1994)    100.0 %\n",
       "8            Someone Else's America (1995)    100.0 %\n",
       "9                       Little City (1998)    100.0 %\n",
       "10        Shawshank Redemption, The (1994)     95.9 %\n",
       "11                   Close Shave, A (1995)     94.8 %\n",
       "12                             Anna (1996)     94.8 %\n",
       "13  Maya Lin: A Strong Clear Vision (1994)     94.0 %\n",
       "14                       Angel Baby (1995)     93.9 %\n",
       "15                        Star Wars (1977)     93.5 %\n",
       "16          Raiders of the Lost Ark (1981)     93.0 %\n",
       "17                 Schindler's List (1993)     92.9 %\n",
       "18     Bitter Sugar (Azucar Amargo) (1996)     92.7 %\n",
       "19                Some Mother's Son (1996)     92.7 %"
      ]
     },
     "execution_count": 55,
     "metadata": {},
     "output_type": "execute_result"
    }
   ],
   "source": [
    "movie_dict = {}\n",
    "for movie in movies:\n",
    "    movie_dict[movie[\"movie_id\"]] = movie[\"name\"]\n",
    "\n",
    "output_dataframe =[]\n",
    "for pred in preds:\n",
    "    output_row ={}\n",
    "    output_row[\"Nome do Filme\"] = movie_dict[pred[\"movie_id\"]] \n",
    "    relevance = (pred[\"rating\"] / float(MAX_RATING)) * 100\n",
    "    output_row[\"Relevância\"] = \"%.1f %%\" %relevance\n",
    "    output_dataframe.append(output_row)\n",
    "\n",
    "df = pd.DataFrame(data=output_dataframe[:20])\n",
    "cols = [\"Nome do Filme\", \"Relevância\"]\n",
    "df = df[cols]\n",
    "df"
   ]
  },
  {
   "cell_type": "markdown",
   "metadata": {},
   "source": [
    "## Resultados"
   ]
  },
  {
   "cell_type": "markdown",
   "metadata": {},
   "source": [
    "Uma __página com o resultado__ do projeto aqui documentado, pode ser encontrada em __[http://104.196.53.19/](http://104.196.53.19/)__.    \n"
   ]
  },
  {
   "cell_type": "markdown",
   "metadata": {},
   "source": [
    "__OBS__.: A __proposta inicial__ do projeto era de que se pegasse um usuário existente do banco e buscasse indicações para esse usuário. Conversei com o professor e achei que seria mais útil e interessante fazer inserções e criar um novo usuário, para que uma recomendação real fosse feita, o professor aceitou a sugestão."
   ]
  }
 ],
 "metadata": {
  "kernelspec": {
   "display_name": "Python 3",
   "language": "python",
   "name": "python3"
  },
  "language_info": {
   "codemirror_mode": {
    "name": "ipython",
    "version": 3
   },
   "file_extension": ".py",
   "mimetype": "text/x-python",
   "name": "python",
   "nbconvert_exporter": "python",
   "pygments_lexer": "ipython3",
   "version": "3.6.5"
  }
 },
 "nbformat": 4,
 "nbformat_minor": 2
}
