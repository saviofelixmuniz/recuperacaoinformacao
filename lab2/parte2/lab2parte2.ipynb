{
 "cells": [
  {
   "cell_type": "markdown",
   "metadata": {},
   "source": [
    "# Lab 2 - Parte 2 - PageRank"
   ]
  },
  {
   "cell_type": "markdown",
   "metadata": {},
   "source": [
    "Nesta atividade, foi recebido de entrada um conjunto de dados de avaliações de negociações de bitcoins e a ideia era que, a partir desses dados, além de usando o algoritmo de PageRank, fossem extraídas informações sobre usuários mais confiáveis. "
   ]
  },
  {
   "cell_type": "markdown",
   "metadata": {},
   "source": [
    "### Leitura dos dados "
   ]
  },
  {
   "cell_type": "markdown",
   "metadata": {},
   "source": [
    "Primeiramente, importam-se as bibliotecas necessárias:"
   ]
  },
  {
   "cell_type": "code",
   "execution_count": 1,
   "metadata": {},
   "outputs": [],
   "source": [
    "import csv\n",
    "import numpy as np\n",
    "import operator\n",
    "import pandas as pd"
   ]
  },
  {
   "cell_type": "markdown",
   "metadata": {},
   "source": [
    "Importam-se os dados e faz-se um mapeamento das avaliações, bem como cria-se um conjunto de usuários presentes nas avaliações feitas e recebidas."
   ]
  },
  {
   "cell_type": "code",
   "execution_count": 2,
   "metadata": {},
   "outputs": [],
   "source": [
    "users = set()\n",
    "user_ratings = []\n",
    "with open('soc-sign-bitcoinotc.csv', 'rt', encoding='utf8') as csvfile:\n",
    "    data = csv.reader(csvfile)\n",
    "    \n",
    "    for row in data:\n",
    "        rating = int(row[2])\n",
    "        if (rating >= 8):\n",
    "            source = int(row[0])\n",
    "            target = int(row[1])\n",
    "            users.add(source)\n",
    "            users.add(target)\n",
    "            user_ratings.append({\"source\": source, \"target\": target, \"rating\": rating, \"date\": row[3]})"
   ]
  },
  {
   "cell_type": "markdown",
   "metadata": {},
   "source": [
    "Transforma-se então o conjunto de usuário em uma lista, a fim de ordenar esses usuários por ID. "
   ]
  },
  {
   "cell_type": "code",
   "execution_count": 3,
   "metadata": {},
   "outputs": [],
   "source": [
    "users = list(users)\n",
    "users.sort()"
   ]
  },
  {
   "cell_type": "markdown",
   "metadata": {},
   "source": [
    "### Matriz de adjacência "
   ]
  },
  {
   "cell_type": "markdown",
   "metadata": {},
   "source": [
    "Para que o algoritmo de PageRank seja utilizado é preciso que antes seja construída uma matriz de adjacência (_hyperlink matrix_). Para tal, calcula-se primeiramente a popularidade de cada usuário remetente das avaliações."
   ]
  },
  {
   "cell_type": "code",
   "execution_count": 4,
   "metadata": {},
   "outputs": [],
   "source": [
    "popularity = {}\n",
    "for user_rating in user_ratings:\n",
    "    if user_rating[\"source\"] not in popularity:\n",
    "        popularity[user_rating[\"source\"]] = 0\n",
    "    popularity[user_rating[\"source\"]] += user_rating[\"rating\"]"
   ]
  },
  {
   "cell_type": "markdown",
   "metadata": {},
   "source": [
    "Cria-se agora uma matriz de zeros vazia, de tamanho _n x n_ em que _n_ é o comprimento da lista de usuários participantes das avaliações. \n",
    "\n",
    "__NOTA:__ Aqui, justifica-se a ordenação dos usuários na definicição da lista, para que possam-se mapear os índices da matriz aos usuários correspondentes."
   ]
  },
  {
   "cell_type": "code",
   "execution_count": 5,
   "metadata": {},
   "outputs": [],
   "source": [
    "hyperlink_matrix = np.zeros(shape=(len(users), len(users)))"
   ]
  },
  {
   "cell_type": "markdown",
   "metadata": {},
   "source": [
    "A ideia da matriz de adjacência é a seguinte: se uma página ou uma entidade faz _i_ menções a _k_ outras páginas ou entidades, então ela está distribuindo $\\frac{i}{k}$ da sua popularidade para qualquer uma dessas páginas. O valor de popularidade distribuída, em geral, é portanto uma média aritmética do número de menções. \n",
    "Deseja-se adaptar esse conceito usando as avaliações oferecidas no conjunto de dados. Para isso, foi usada uma média ponderada, usando da popularidade calculada previamene (que é a soma de todas as notas dadas por um usuário) e da nota oferecida a um usuário específico. Sendo assim, o valor de uma célula $C_{ij}$ é dada por:\n"
   ]
  },
  {
   "cell_type": "markdown",
   "metadata": {},
   "source": [
    "$$ C_{ij} = \\frac{N_{ji}}{Sum_j} $$"
   ]
  },
  {
   "cell_type": "markdown",
   "metadata": {},
   "source": [
    "Em que $N_{ji}$ é a nota que o usuário j deu para o usuário i. E $Sum_j$ é a soma de todas as notas que o usuário j deu."
   ]
  },
  {
   "cell_type": "markdown",
   "metadata": {},
   "source": [
    "Estabelecida esta adaptação nos parâmetros da matriz de adjacência, é possível, então, montá-la:"
   ]
  },
  {
   "cell_type": "code",
   "execution_count": 6,
   "metadata": {},
   "outputs": [],
   "source": [
    "for user_rating in user_ratings:\n",
    "    hyperlink_matrix[users.index(user_rating[\"target\"])][users.index(user_rating[\"source\"])] = float(user_rating[\"rating\"])/float(popularity[user_rating[\"source\"]])"
   ]
  },
  {
   "cell_type": "markdown",
   "metadata": {},
   "source": [
    "Olhando na primeira linha e as cinco primeiras colunas, vemos, por exemplo, que o usuário na posição 1 da lista de usuários (_id _) deu 11.111% da sua popularidade para o usuário na posição 0 da lista de usuários (_id 2_)"
   ]
  },
  {
   "cell_type": "code",
   "execution_count": 7,
   "metadata": {},
   "outputs": [
    {
     "name": "stdout",
     "output_type": "stream",
     "text": [
      "Primeira linha, cinco primeiras colunas: [0.         0.11111111 0.         0.23809524 0.24242424]\n",
      "Usuário na posição 0: 1\n",
      "Usuário na posição 1: 2\n"
     ]
    }
   ],
   "source": [
    "print(\"Primeira linha, cinco primeiras colunas: \" + str(hyperlink_matrix[0][:5]))\n",
    "print(\"Usuário na posição 0: \" + str(users[0]))\n",
    "print(\"Usuário na posição 1: \" + str(users[1]))"
   ]
  },
  {
   "cell_type": "markdown",
   "metadata": {},
   "source": [
    "### Algoritmo de PageRank "
   ]
  },
  {
   "cell_type": "markdown",
   "metadata": {},
   "source": [
    "Constroi-se agora o algoritmo de PageRank e executa-se a função recursiva de multiplicação da matriz construída com o vetor suporte e observa-se a convergência:"
   ]
  },
  {
   "cell_type": "code",
   "execution_count": 8,
   "metadata": {},
   "outputs": [],
   "source": [
    "b = (1.0/len(hyperlink_matrix)) * np.ones(shape=(len(users), len(users)))\n",
    "\n",
    "matrix = np.matrix(0.85 * hyperlink_matrix + 0.15 * b)\n",
    "vector = (1.0/len(hyperlink_matrix)) * np.matrix(np.ones(shape=(len(users),1)))"
   ]
  },
  {
   "cell_type": "code",
   "execution_count": 11,
   "metadata": {},
   "outputs": [],
   "source": [
    "count = 0\n",
    "\n",
    "def pagerank(v):\n",
    "    global count\n",
    "    if (sum(abs(matrix*v - v))) > 0.001:\n",
    "        count += 1\n",
    "        return pagerank(matrix*v)\n",
    "    else:\n",
    "        count += 1\n",
    "        return matrix*v"
   ]
  },
  {
   "cell_type": "code",
   "execution_count": 17,
   "metadata": {},
   "outputs": [],
   "source": [
    "results = pagerank(vector)"
   ]
  },
  {
   "cell_type": "markdown",
   "metadata": {},
   "source": [
    "A partir daí consegue-se observar __o número de interações para chegar na convergência__:"
   ]
  },
  {
   "cell_type": "code",
   "execution_count": 10,
   "metadata": {},
   "outputs": [
    {
     "data": {
      "text/plain": [
       "35"
      ]
     },
     "execution_count": 10,
     "metadata": {},
     "output_type": "execute_result"
    }
   ],
   "source": [
    "count"
   ]
  },
  {
   "cell_type": "markdown",
   "metadata": {},
   "source": [
    "### Ranking de confiabilidade"
   ]
  },
  {
   "cell_type": "markdown",
   "metadata": {},
   "source": [
    "Para que possam ser ordenados os resultados obtidos no _PageRank_ é preciso mapear de volta o vetor obtido do resultado com os índices da lista de usuários das avaliações:"
   ]
  },
  {
   "cell_type": "code",
   "execution_count": 18,
   "metadata": {},
   "outputs": [],
   "source": [
    "results = [i[0] for i in results.tolist()]\n",
    "\n",
    "mapped_pagerank = []\n",
    "\n",
    "for index, user_rank in enumerate(results):\n",
    "    mapped_pagerank.append({\"user\": users[index], \"rank_score\": user_rank})"
   ]
  },
  {
   "cell_type": "code",
   "execution_count": 19,
   "metadata": {},
   "outputs": [],
   "source": [
    "mapped_pagerank.sort(key=operator.itemgetter('rank_score'), reverse=True)"
   ]
  },
  {
   "cell_type": "markdown",
   "metadata": {},
   "source": [
    "A partir daí pode-se observar __os cinco usuários melhores avaliados segundo o *PageRank*__ "
   ]
  },
  {
   "cell_type": "code",
   "execution_count": 21,
   "metadata": {},
   "outputs": [
    {
     "data": {
      "text/html": [
       "<div>\n",
       "<style scoped>\n",
       "    .dataframe tbody tr th:only-of-type {\n",
       "        vertical-align: middle;\n",
       "    }\n",
       "\n",
       "    .dataframe tbody tr th {\n",
       "        vertical-align: top;\n",
       "    }\n",
       "\n",
       "    .dataframe thead th {\n",
       "        text-align: right;\n",
       "    }\n",
       "</style>\n",
       "<table border=\"1\" class=\"dataframe\">\n",
       "  <thead>\n",
       "    <tr style=\"text-align: right;\">\n",
       "      <th></th>\n",
       "      <th>user</th>\n",
       "      <th>rank_score</th>\n",
       "    </tr>\n",
       "  </thead>\n",
       "  <tbody>\n",
       "    <tr>\n",
       "      <th>0</th>\n",
       "      <td>1</td>\n",
       "      <td>0.000143</td>\n",
       "    </tr>\n",
       "    <tr>\n",
       "      <th>1</th>\n",
       "      <td>202</td>\n",
       "      <td>0.000126</td>\n",
       "    </tr>\n",
       "    <tr>\n",
       "      <th>2</th>\n",
       "      <td>144</td>\n",
       "      <td>0.000118</td>\n",
       "    </tr>\n",
       "    <tr>\n",
       "      <th>3</th>\n",
       "      <td>3996</td>\n",
       "      <td>0.000096</td>\n",
       "    </tr>\n",
       "    <tr>\n",
       "      <th>4</th>\n",
       "      <td>361</td>\n",
       "      <td>0.000095</td>\n",
       "    </tr>\n",
       "  </tbody>\n",
       "</table>\n",
       "</div>"
      ],
      "text/plain": [
       "   user  rank_score\n",
       "0     1    0.000143\n",
       "1   202    0.000126\n",
       "2   144    0.000118\n",
       "3  3996    0.000096\n",
       "4   361    0.000095"
      ]
     },
     "execution_count": 21,
     "metadata": {},
     "output_type": "execute_result"
    }
   ],
   "source": [
    "df = pd.DataFrame(data=mapped_pagerank[:5])\n",
    "cols = [\"user\", \"rank_score\"]\n",
    "df = df[cols]\n",
    "df"
   ]
  },
  {
   "cell_type": "markdown",
   "metadata": {},
   "source": [
    "### Conclusão "
   ]
  },
  {
   "cell_type": "markdown",
   "metadata": {},
   "source": [
    "Ao fim deste exercício é possível __observar a relevância do estudo para investidores em BitCoins__. Usando do algoritmo, é possível destacar os usuários que melhor foram avaliados nas transações de bitcoins e daí saber qual o tamanho do risco em uma possível transação com este mesmo usuário."
   ]
  }
 ],
 "metadata": {
  "kernelspec": {
   "display_name": "Python 3",
   "language": "python",
   "name": "python3"
  },
  "language_info": {
   "codemirror_mode": {
    "name": "ipython",
    "version": 3
   },
   "file_extension": ".py",
   "mimetype": "text/x-python",
   "name": "python",
   "nbconvert_exporter": "python",
   "pygments_lexer": "ipython3",
   "version": "3.5.2"
  }
 },
 "nbformat": 4,
 "nbformat_minor": 2
}
